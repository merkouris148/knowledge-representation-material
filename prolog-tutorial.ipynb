{
 "cells": [
  {
   "cell_type": "markdown",
   "id": "e9058f37-55a7-414c-9dd7-4e516dc009fd",
   "metadata": {},
   "source": [
    "# Knowledge Representation & Reasoning: Prolog Tutorial\n",
    "Merkouris Papamichail, CSD, UoC | ICS, FORTH $\\cdot$ [merkourisp@csd.uoc.gr](mailto:merkourisp@csd.uoc.gr)\n",
    "\n",
    "*Based on Tutorial of Dr. Filippos Gouidis*"
   ]
  },
  {
   "cell_type": "markdown",
   "id": "bd170c41-68bb-47bb-b928-462ba7186c14",
   "metadata": {},
   "source": [
    "## Exercise 1: Socrates"
   ]
  },
  {
   "cell_type": "markdown",
   "id": "898c6f79-0a13-4568-bb41-272117097be6",
   "metadata": {},
   "source": [
    "We first load the file `socrates.lp`, with `prolog socrates.lp`."
   ]
  },
  {
   "cell_type": "code",
   "execution_count": null,
   "id": "0629cf69-1d5e-4d7e-b870-b1dbe82cf921",
   "metadata": {},
   "outputs": [],
   "source": [
    "% socrates.lp\n",
    "\n",
    "man(socrates).\n",
    "moral(X) :- man(X)."
   ]
  },
  {
   "cell_type": "markdown",
   "id": "324ede6c-d2df-455c-b81c-cb30c14b2e9d",
   "metadata": {},
   "source": [
    "Now, we are able to ask questions:"
   ]
  },
  {
   "cell_type": "code",
   "execution_count": 2,
   "id": "5895a9ae-cbd1-4744-963b-6008fbe1b7c3",
   "metadata": {},
   "outputs": [
    {
     "data": {
      "text/plain": [
       "\u001b[1mX = socrates"
      ]
     },
     "metadata": {},
     "output_type": "display_data"
    }
   ],
   "source": [
    "man(X)."
   ]
  },
  {
   "cell_type": "markdown",
   "id": "b14287c4-c04e-4891-8cbf-86b8b0d28a21",
   "metadata": {},
   "source": [
    "Prolog matches `X` with the *constant* `socrates`."
   ]
  },
  {
   "cell_type": "markdown",
   "id": "cc253acf-0657-4c6d-b82a-cddee4d5e974",
   "metadata": {},
   "source": [
    "Another question:"
   ]
  },
  {
   "cell_type": "code",
   "execution_count": 3,
   "id": "c2c24440-27aa-4551-8908-25db713e4649",
   "metadata": {},
   "outputs": [
    {
     "data": {
      "text/plain": [
       "\u001b[1mX = socrates"
      ]
     },
     "metadata": {},
     "output_type": "display_data"
    }
   ],
   "source": [
    "moral(X)."
   ]
  },
  {
   "cell_type": "markdown",
   "id": "a3e7cb1b-a890-49b2-b9df-975828afc595",
   "metadata": {},
   "source": [
    "Here the Prolog's inference is a bit more involved. Firstly, Prolog *cannot* find a *fact* (a rule without a body) to match our question. Thus, searches for a rule to match our question with its head. Namely, `moral(X) :- man(X).`. In order to *prove* the last formula, Prolog needs to prove the fact `man(X).`. The latter holds for `X = socrates`. This concludes the inference."
   ]
  },
  {
   "cell_type": "markdown",
   "id": "8f9e6b67-927a-4b0d-aa48-0a2630e1fb3b",
   "metadata": {},
   "source": [
    "## Exercise 2: Family Example"
   ]
  },
  {
   "cell_type": "markdown",
   "id": "366cd962-2d12-4107-a9ec-f667952f3d9f",
   "metadata": {},
   "source": [
    "We load the file `family.lp`."
   ]
  },
  {
   "cell_type": "code",
   "execution_count": null,
   "id": "e30aa076-286f-41de-938a-9b61e3bd59a0",
   "metadata": {},
   "outputs": [],
   "source": [
    "% family.lp\n",
    "\n",
    "%% facts\n",
    "child(john, sue).\n",
    "child(jane, sue).\n",
    "child(sue, george).\n",
    "child(john, sam).\n",
    "child(jane, sam).\n",
    "child(sue, gina).\n",
    "\n",
    "male(john).\n",
    "male(sam).\n",
    "male(george).\n",
    "\n",
    "female(sue).\n",
    "female(jane).\n",
    "female(june).\n",
    "female(gina).\n",
    "\n",
    "\n",
    "%% rules\n",
    "father(X, Y) :- child(Y, X), male(X).\n",
    "mother(X, Y) :- child(Y, X), female(X).\n",
    "\n",
    "parent(X, Y) :- father(X, Y).\n",
    "parent(X, Y) :- mother(X, Y).\n",
    "\n",
    "grandfather(X, Y) :- father(X, Z), parent(Z, Y).\n",
    "grandmother(X, Y) :- mother(X, Z), parent(Z, Y)."
   ]
  },
  {
   "cell_type": "markdown",
   "id": "e6093081-821c-428e-8cee-1f34c6932072",
   "metadata": {},
   "source": [
    "The `family.lp` describes the following family graph:"
   ]
  },
  {
   "cell_type": "markdown",
   "id": "c4063dc7-687f-4571-bf67-6043118fac7b",
   "metadata": {},
   "source": [
    "<div>\n",
    "    <center>\n",
    "        <img src=\"./figures/family-white.png\" width=\"300\"/>\n",
    "    </center>\n",
    "</div>"
   ]
  },
  {
   "cell_type": "markdown",
   "id": "6013bd13-10dc-4092-a893-cfe5f2a4315b",
   "metadata": {},
   "source": [
    "We ask some questions:"
   ]
  },
  {
   "cell_type": "code",
   "execution_count": 5,
   "id": "16342f42-5920-41e6-872c-4b5da9f65791",
   "metadata": {},
   "outputs": [
    {
     "data": {
      "text/plain": [
       "\u001b[1mX = george,\n",
       "Y = sue"
      ]
     },
     "metadata": {},
     "output_type": "display_data"
    }
   ],
   "source": [
    "father(X, Y)."
   ]
  },
  {
   "cell_type": "code",
   "execution_count": 6,
   "id": "b2d1c110-19f5-4d5f-85d3-8cc9eb491310",
   "metadata": {},
   "outputs": [
    {
     "data": {
      "text/plain": [
       "% Retrying goal: father(X,Y)\n"
      ]
     },
     "metadata": {},
     "output_type": "display_data"
    },
    {
     "data": {
      "text/plain": [
       "\u001b[1mX = sam,\n",
       "Y = john"
      ]
     },
     "metadata": {},
     "output_type": "display_data"
    }
   ],
   "source": [
    "% We use this instead of standard \";\" in SWI-prolog's terminal.\n",
    "% Just for this notebook.\n",
    "% Please, do NOT use this in SWI-prolog's prompt.\n",
    "% Use \";\" instead!\n",
    "jupyter:retry."
   ]
  },
  {
   "cell_type": "code",
   "execution_count": 7,
   "id": "de5b574d-db0b-4faf-9f65-c92385a714e9",
   "metadata": {},
   "outputs": [
    {
     "data": {
      "text/plain": [
       "% Retrying goal: father(X,Y)\n"
      ]
     },
     "metadata": {},
     "output_type": "display_data"
    },
    {
     "data": {
      "text/plain": [
       "\u001b[1mX = sam,\n",
       "Y = jane"
      ]
     },
     "metadata": {},
     "output_type": "display_data"
    }
   ],
   "source": [
    "% one more answer\n",
    "jupyter:retry."
   ]
  },
  {
   "cell_type": "markdown",
   "id": "9bf5e2ae-9d47-410d-8bd7-dbb1a83e13c7",
   "metadata": {},
   "source": [
    "Oops.. there are no more \"fathers\". The reader is encouraged to verify the correctness of the above with the family graph. Let's ask another question."
   ]
  },
  {
   "cell_type": "code",
   "execution_count": 8,
   "id": "ec42d304-09e4-4fc1-a81b-0208dae887cb",
   "metadata": {},
   "outputs": [
    {
     "data": {
      "text/plain": [
       "\u001b[1mX = gina,\n",
       "Y = john"
      ]
     },
     "metadata": {},
     "output_type": "display_data"
    }
   ],
   "source": [
    "grandmother(X, Y)."
   ]
  },
  {
   "cell_type": "markdown",
   "id": "fc6d7282-7c59-4dba-86ae-8c9bf9c0d443",
   "metadata": {},
   "source": [
    "Why does this work? Consider the rule `grandmother(X, Y) :- mother(X, Z), parent(Z, Y).`. This rule essentially translates to \"X is a grand mother of Y, *if* *there is some* Z, such that X is mother of Z, *and* Z is a parent of Y\". This is translated to the following formula:\n",
    "$$\n",
    "(\\forall X ~\\forall Y ~\\exists Z) \\quad \\mathtt{mother}(X, Z) \\land \\mathtt{parent}(Z, Y) \\to \\mathtt{grandmother}(X, Y)\n",
    "$$\n",
    "The clear and rigorous *semantics* of Prolog is one of the greatest streanghts of the language! Above observe Prolog denotes the logical and operator $\\land$ with `,`."
   ]
  },
  {
   "cell_type": "markdown",
   "id": "ca2c9962-cdb1-4dbf-9f6e-7891eb61d4b1",
   "metadata": {},
   "source": [
    "### Understanding Disjunction in Prolog"
   ]
  },
  {
   "cell_type": "markdown",
   "id": "7a83ff74-cbf2-4de6-845b-5ac631e9b984",
   "metadata": {},
   "source": [
    "Finally, observe that we have *two* rules defining the predicate `parent`. There is no contradiction there. Indee, lets compute all the answers of the `parent` predicate."
   ]
  },
  {
   "cell_type": "code",
   "execution_count": 9,
   "id": "65654da8-314e-44eb-9706-aeb0115c9c62",
   "metadata": {},
   "outputs": [
    {
     "data": {
      "text/plain": [
       "\u001b[1mX = george,\n",
       "Y = sue"
      ]
     },
     "metadata": {},
     "output_type": "display_data"
    }
   ],
   "source": [
    "parent(X, Y)."
   ]
  },
  {
   "cell_type": "code",
   "execution_count": 10,
   "id": "f36c9870-ad46-4612-8dbb-51a98fa52354",
   "metadata": {},
   "outputs": [
    {
     "data": {
      "text/plain": [
       "% Retrying goal: parent(X,Y)\n"
      ]
     },
     "metadata": {},
     "output_type": "display_data"
    },
    {
     "data": {
      "text/plain": [
       "\u001b[1mX = sam,\n",
       "Y = john"
      ]
     },
     "metadata": {},
     "output_type": "display_data"
    }
   ],
   "source": [
    "jupyter:retry."
   ]
  },
  {
   "cell_type": "code",
   "execution_count": 11,
   "id": "73a15f02-263d-4414-8455-97aaf71ef89b",
   "metadata": {},
   "outputs": [
    {
     "data": {
      "text/plain": [
       "% Retrying goal: parent(X,Y)\n"
      ]
     },
     "metadata": {},
     "output_type": "display_data"
    },
    {
     "data": {
      "text/plain": [
       "\u001b[1mX = sam,\n",
       "Y = jane"
      ]
     },
     "metadata": {},
     "output_type": "display_data"
    }
   ],
   "source": [
    "jupyter:retry."
   ]
  },
  {
   "cell_type": "code",
   "execution_count": 12,
   "id": "1804499d-cf77-492c-a578-79e9db8d44a3",
   "metadata": {},
   "outputs": [
    {
     "data": {
      "text/plain": [
       "% Retrying goal: parent(X,Y)\n"
      ]
     },
     "metadata": {},
     "output_type": "display_data"
    },
    {
     "data": {
      "text/plain": [
       "\u001b[1mX = sue,\n",
       "Y = john"
      ]
     },
     "metadata": {},
     "output_type": "display_data"
    }
   ],
   "source": [
    "jupyter:retry."
   ]
  },
  {
   "cell_type": "code",
   "execution_count": 13,
   "id": "477a3057-feef-4533-a990-14f2767a87a0",
   "metadata": {},
   "outputs": [
    {
     "data": {
      "text/plain": [
       "% Retrying goal: parent(X,Y)\n"
      ]
     },
     "metadata": {},
     "output_type": "display_data"
    },
    {
     "data": {
      "text/plain": [
       "\u001b[1mX = sue,\n",
       "Y = jane"
      ]
     },
     "metadata": {},
     "output_type": "display_data"
    }
   ],
   "source": [
    "jupyter:retry."
   ]
  },
  {
   "cell_type": "code",
   "execution_count": 14,
   "id": "f00965a2-d976-486b-80eb-b50a78c45c0f",
   "metadata": {},
   "outputs": [
    {
     "data": {
      "text/plain": [
       "% Retrying goal: parent(X,Y)\n"
      ]
     },
     "metadata": {},
     "output_type": "display_data"
    },
    {
     "data": {
      "text/plain": [
       "\u001b[1mX = gina,\n",
       "Y = sue"
      ]
     },
     "metadata": {},
     "output_type": "display_data"
    }
   ],
   "source": [
    "jupyter:retry."
   ]
  },
  {
   "cell_type": "code",
   "execution_count": null,
   "id": "e5b43517-fc94-49e2-8507-5c4a1b9a7d8d",
   "metadata": {},
   "outputs": [
    {
     "data": {
      "text/plain": [
       "% Retrying goal: parent(X,Y)\n"
      ]
     },
     "metadata": {},
     "output_type": "display_data"
    },
    {
     "data": {
      "text/plain": [
       "\u001b[1;31mfalse"
      ]
     },
     "metadata": {},
     "output_type": "display_data"
    }
   ],
   "source": [
    "jupyter:retry."
   ]
  },
  {
   "cell_type": "markdown",
   "id": "a7dd26ee-01b0-44f9-8055-0cad5d005b82",
   "metadata": {},
   "source": [
    "#### Disjunction in Questions"
   ]
  },
  {
   "cell_type": "markdown",
   "id": "a2d63fce-ab3f-4902-a7c0-1d6a32abfeb2",
   "metadata": {},
   "source": [
    "For the sake of verifing our results, consider the following question:"
   ]
  },
  {
   "cell_type": "code",
   "execution_count": 17,
   "id": "0b6fc9bd-4e7b-44ed-a176-520304dbf81c",
   "metadata": {},
   "outputs": [
    {
     "data": {
      "text/plain": [
       "\u001b[1mX = george,\n",
       "Y = sue"
      ]
     },
     "metadata": {},
     "output_type": "display_data"
    }
   ],
   "source": [
    "father(X, Y); mother(X, Y)"
   ]
  },
  {
   "cell_type": "code",
   "execution_count": 18,
   "id": "3cd18e3a-8a91-4bf4-9b82-dfee98188b09",
   "metadata": {},
   "outputs": [
    {
     "data": {
      "text/plain": [
       "% Retrying goal: father(X,Y);mother(X,Y)\n"
      ]
     },
     "metadata": {},
     "output_type": "display_data"
    },
    {
     "data": {
      "text/plain": [
       "\u001b[1mX = sam,\n",
       "Y = john"
      ]
     },
     "metadata": {},
     "output_type": "display_data"
    }
   ],
   "source": [
    "jupyter:retry."
   ]
  },
  {
   "cell_type": "code",
   "execution_count": 19,
   "id": "2b3d4f8f-20f2-4faf-91e3-8bb604500927",
   "metadata": {},
   "outputs": [
    {
     "data": {
      "text/plain": [
       "% Retrying goal: father(X,Y);mother(X,Y)\n"
      ]
     },
     "metadata": {},
     "output_type": "display_data"
    },
    {
     "data": {
      "text/plain": [
       "\u001b[1mX = sam,\n",
       "Y = jane"
      ]
     },
     "metadata": {},
     "output_type": "display_data"
    }
   ],
   "source": [
    "jupyter:retry."
   ]
  },
  {
   "cell_type": "code",
   "execution_count": 20,
   "id": "4c4e9a0d-b044-443e-837f-d31ea1cf6065",
   "metadata": {},
   "outputs": [
    {
     "data": {
      "text/plain": [
       "% Retrying goal: father(X,Y);mother(X,Y)\n"
      ]
     },
     "metadata": {},
     "output_type": "display_data"
    },
    {
     "data": {
      "text/plain": [
       "\u001b[1mX = sue,\n",
       "Y = john"
      ]
     },
     "metadata": {},
     "output_type": "display_data"
    }
   ],
   "source": [
    "jupyter:retry."
   ]
  },
  {
   "cell_type": "code",
   "execution_count": 21,
   "id": "9f8c295b-53da-4a4c-b8d3-e6f85e098d6e",
   "metadata": {},
   "outputs": [
    {
     "data": {
      "text/plain": [
       "% Retrying goal: father(X,Y);mother(X,Y)\n"
      ]
     },
     "metadata": {},
     "output_type": "display_data"
    },
    {
     "data": {
      "text/plain": [
       "\u001b[1mX = sue,\n",
       "Y = jane"
      ]
     },
     "metadata": {},
     "output_type": "display_data"
    }
   ],
   "source": [
    "jupyter:retry."
   ]
  },
  {
   "cell_type": "code",
   "execution_count": 22,
   "id": "6ac772a6-2c3c-4c75-9b79-a88b00833fc9",
   "metadata": {},
   "outputs": [
    {
     "data": {
      "text/plain": [
       "% Retrying goal: father(X,Y);mother(X,Y)\n"
      ]
     },
     "metadata": {},
     "output_type": "display_data"
    },
    {
     "data": {
      "text/plain": [
       "\u001b[1mX = gina,\n",
       "Y = sue"
      ]
     },
     "metadata": {},
     "output_type": "display_data"
    }
   ],
   "source": [
    "jupyter:retry."
   ]
  },
  {
   "cell_type": "code",
   "execution_count": null,
   "id": "acebbf99-b809-4c53-810f-f1c359efa505",
   "metadata": {},
   "outputs": [
    {
     "data": {
      "text/plain": [
       "% Retrying goal: father(X,Y);mother(X,Y)\n"
      ]
     },
     "metadata": {},
     "output_type": "display_data"
    },
    {
     "data": {
      "text/plain": [
       "\u001b[1;31mfalse"
      ]
     },
     "metadata": {},
     "output_type": "display_data"
    }
   ],
   "source": [
    "jupyter:retry."
   ]
  },
  {
   "cell_type": "markdown",
   "id": "d2daf662-e9c3-4f5e-8077-c1006e6cd9dc",
   "metadata": {},
   "source": [
    "Observe that the results are the same! The question `father(X, Y); mother(X, Y)` *translates* to \"print all X, Y, such that, *either* X is a father of Y, *or* X is a mother of Y\". Thusly, Prolog denotes the logical or operator $\\lor$ with `;`."
   ]
  },
  {
   "cell_type": "markdown",
   "id": "9d559283-1a14-4b2c-911d-e132e8fde96b",
   "metadata": {},
   "source": [
    "#### Disjunction in Rules"
   ]
  },
  {
   "cell_type": "markdown",
   "id": "9beee3f3-9506-42b0-8a83-68b7809684e5",
   "metadata": {},
   "source": [
    "From all the above, we can rewrite the `family.lp` program as follows:"
   ]
  },
  {
   "cell_type": "code",
   "execution_count": null,
   "id": "30db4ea3-f755-4b23-a5ef-da92fca932c0",
   "metadata": {},
   "outputs": [],
   "source": [
    "% family-or.lp\n",
    "\n",
    "%% facts\n",
    "child(john, sue).\n",
    "child(jane, sue).\n",
    "child(sue, george).\n",
    "child(john, sam).\n",
    "child(jane, sam).\n",
    "child(sue, gina).\n",
    "\n",
    "male(john).\n",
    "male(sam).\n",
    "male(george).\n",
    "\n",
    "female(sue).\n",
    "female(jane).\n",
    "female(june).\n",
    "female(gina).\n",
    "\n",
    "\n",
    "%% rules\n",
    "father(X, Y) :- child(Y, X), male(X).\n",
    "mother(X, Y) :- child(Y, X), female(X).\n",
    "\n",
    "\n",
    "%% Observe here!\n",
    "parent(X, Y) :- father(X, Y) ; mother(X, Y). % <--\n",
    "\n",
    "\n",
    "grandfather(X, Y) :- father(X, Z), parent(Z, Y).\n",
    "grandmother(X, Y) :- mother(X, Z), parent(Z, Y)."
   ]
  },
  {
   "cell_type": "markdown",
   "id": "4f324b8b-901b-4b0a-a9b5-23b162231509",
   "metadata": {},
   "source": [
    "The reader is encouraged to test the equivalence between `family.lp` and `family-or.lp`."
   ]
  },
  {
   "cell_type": "markdown",
   "id": "46bd8466-911d-4885-9e76-6aad617e61c5",
   "metadata": {},
   "source": [
    "## Exercise 2: Understanding Negation"
   ]
  },
  {
   "cell_type": "markdown",
   "id": "f837c6f5-b0f8-4449-8b58-cbecfa141210",
   "metadata": {},
   "source": [
    "We rewrite `family.lp`:"
   ]
  },
  {
   "cell_type": "code",
   "execution_count": null,
   "id": "ed34768b-eac6-47b1-a80e-42b4cf34d86f",
   "metadata": {},
   "outputs": [],
   "source": [
    "% family-not.lp\n",
    "\n",
    "person(john).\n",
    "person(sam).\n",
    "person(george).\n",
    "person(sue).\n",
    "person(jane).\n",
    "person(june).\n",
    "person(gina).\n",
    "\n",
    "child(john, sue).\n",
    "child(jane, sue).\n",
    "child(sue, george).\n",
    "child(john, sam).\n",
    "child(jane, sam).\n",
    "child(sue, gina).\n",
    "\n",
    "male(john).\n",
    "male(sam).\n",
    "male(george).\n",
    "\n",
    "\n",
    "% Negation as Failure\n",
    "female(X) :- person(X), \\+ male(X). % a bit too binary.. \n",
    "\n",
    "\n",
    "father(X, Y) :- child(Y, X), male(X).\n",
    "mother(X, Y) :- child(Y, X), female(X).\n",
    "\n",
    "parent(X, Y) :- father(X, Y).\n",
    "parent(X, Y) :- mother(X, Y).\n",
    "\n",
    "grandfather(X, Y) :- father(X, Z), parent(Z, Y).\n",
    "grandmother(X, Y) :- mother(X, Z), parent(Z, Y)."
   ]
  },
  {
   "cell_type": "markdown",
   "id": "9c484024-2694-4eb5-9d4d-1e97979d6f15",
   "metadata": {},
   "source": [
    "We have now remove the explicit definition for `female`, adding a rule for its computation. The rule `female(X) :- person(X), \\+ male(X).` essentially says that \"X is a female if X is a person, and X is *not* a male\". Let's follow Prolog's inference for the `female` predicate. We use the `trace` directive."
   ]
  },
  {
   "cell_type": "code",
   "execution_count": 26,
   "id": "74a75635-be33-42ff-88b2-92edb6e9aa8d",
   "metadata": {},
   "outputs": [
    {
     "data": {
      "text/plain": [
       "   Call: (117) female(_62812)\n",
       "   Call: (118) person(_62812)\n",
       "   Exit: (118) person(john)\n",
       "   Call: (118) male(john)\n",
       "   Exit: (118) male(john)\n",
       "   Redo: (118) person(_62812)\n",
       "   Exit: (118) person(sam)\n",
       "   Call: (118) male(sam)\n",
       "   Exit: (118) male(sam)\n",
       "   Redo: (118) person(_62812)\n",
       "   Exit: (118) person(george)\n",
       "   Call: (118) male(george)\n",
       "   Exit: (118) male(george)\n",
       "   Redo: (118) person(_62812)\n",
       "   Exit: (118) person(sue)\n",
       "   Call: (118) male(sue)\n",
       "   Fail: (118) male(sue)\n",
       "   Redo: (117) female(sue)\n",
       "   Exit: (117) female(sue)"
      ]
     },
     "metadata": {},
     "output_type": "display_data"
    },
    {
     "data": {
      "text/plain": [
       "\u001b[1mX = sue"
      ]
     },
     "metadata": {},
     "output_type": "display_data"
    }
   ],
   "source": [
    "jupyter:trace(female(X))."
   ]
  },
  {
   "cell_type": "markdown",
   "id": "892acbdf-1850-49af-9d7a-9898d01ebbc6",
   "metadata": {},
   "source": [
    "Observe the inference listed above. Bellow we present the inference tree consrtucted internally by prolog."
   ]
  },
  {
   "cell_type": "markdown",
   "id": "5f3c44f6-703d-4ab9-8da5-a3c2bdd6b0b8",
   "metadata": {},
   "source": [
    "<div>\n",
    "    <center>\n",
    "        <img src=\"./figures/inference.png\" width=\"500\"/>\n",
    "    </center>\n",
    "</div>"
   ]
  },
  {
   "cell_type": "markdown",
   "id": "e73f36ae-3287-4586-957f-ea58f84f8ad9",
   "metadata": {},
   "source": [
    "### Negation as Failure"
   ]
  },
  {
   "cell_type": "markdown",
   "id": "b20ffa82-56f0-4c58-8ef3-5ad9f619c07b",
   "metadata": {},
   "source": [
    "We should be very careful when using negation in prolog! The semantics of negation in Logic Programming differ from negation in First Order Logic. In particular, the Prolog negation `\\+ p(X)` holds *iff* for every `X`, the inference mechanism cannot prove `p(X)`. Mathematically, this is equivalent to \"if I can show that there is no proof for `p(X)`, then I have a proof for `\\+ p(X)`. In classical mathematical logic, the latter does not hold. However, if one is careful in her programming, negation as failure is an extremely useful tool for writing an elegant program."
   ]
  },
  {
   "cell_type": "markdown",
   "id": "0a6f9609-ccb9-482f-9136-58e314944acb",
   "metadata": {},
   "source": [
    "## Exercise 3: Recursion"
   ]
  },
  {
   "cell_type": "markdown",
   "id": "c297be75-5f25-42e4-89e4-f42357d49f2b",
   "metadata": {},
   "source": [
    "Consider the following expansion to our running `family.lp` example."
   ]
  },
  {
   "cell_type": "code",
   "execution_count": null,
   "id": "9f76fe04-44ee-4c21-ab20-334f26a37d1d",
   "metadata": {},
   "outputs": [],
   "source": [
    "% family-rec.lp\n",
    "\n",
    "person(john).\n",
    "person(sam).\n",
    "person(george).\n",
    "person(sue).\n",
    "person(jane).\n",
    "person(june).\n",
    "person(gina).\n",
    "person(christos).\n",
    "person(dimitris).\n",
    "person(miriam).\n",
    "\n",
    "child(john, sue). child(sue, gina). child(gina, christos). child(christos, dimitris).\n",
    "child(jane, sue). child(sue, george). child(georege, miriam).\n",
    "child(john, sam).\n",
    "child(jane, sam).\n",
    "\n",
    "male(john).\n",
    "male(sam).\n",
    "male(george).\n",
    "male(christos).\n",
    "male(dimitris).\n",
    "\n",
    "\n",
    "% Negation as Failure\n",
    "female(X) :- person(X), \\+ male(X).\n",
    "\n",
    "father(X, Y) :- child(Y, X), male(X).\n",
    "mother(X, Y) :- child(Y, X), female(X).\n",
    "\n",
    "parent(X, Y) :- father(X, Y).\n",
    "parent(X, Y) :- mother(X, Y).\n",
    "\n",
    "\n",
    "grandfather(X, Y) :- father(X, Z), parent(Z, Y).\n",
    "grandmother(X, Y) :- mother(X, Z), parent(Z, Y).\n",
    "\n",
    "% Recursion\n",
    "ancestor(X, Y) :- parent(X, Y).\n",
    "ancestor(X, Y) :- parent(X, Z), ancestor(Z, Y)."
   ]
  },
  {
   "cell_type": "markdown",
   "id": "c55bf6b9-1de4-4ad4-952c-3f16015f2732",
   "metadata": {},
   "source": [
    "The family graph is extended as follows:"
   ]
  },
  {
   "cell_type": "markdown",
   "id": "6a6344dc-9860-41cf-ba42-ae63b6d7bfca",
   "metadata": {},
   "source": [
    "<div>\n",
    "    <center>\n",
    "        <img src=\"./figures/family-2.png\" width=\"500\"/>\n",
    "    </center>\n",
    "</div>"
   ]
  },
  {
   "cell_type": "markdown",
   "id": "f1c70a30-0ec5-4375-b511-d0df728f4740",
   "metadata": {},
   "source": [
    "For computing the `ancestor` relation for graphs with *arbitrary diameter*, we need *recursion*. We say that a rule is reursive if the predicate appearing at the head of the rule, also appears at the body of the rule.\n",
    "\n",
    "Recursion needs two steps. First, we define a *non-recursive* *base step*, i.e. `ancestor(X, Y) :- parent(X, Y).`. Then, we define the *recursive step*, i.e. `ancestor(X, Y) :- parent(X, Z), ancestor(Z, Y).`. Note that each recursion beginning from the latter rule, eventually will result in the base step, for it to terminate. A common mistake that leads to an infinate recursion is forgetting to write a correct rule, for every base case.\n",
    "\n",
    "Finally, note that, contrary to imperative programming languages, recursion is the *only* way to write an iteration in prolog. Moreover, Prolog is *optimised for recursion*, thus common issues with overflowing heaps in other programming languages (e.g. Python) do not appear here."
   ]
  },
  {
   "cell_type": "markdown",
   "id": "5f522be5-53e6-4195-a0d0-9b1a9023c6a1",
   "metadata": {},
   "source": [
    "### Ordering Matters: Avoiding Infinite Loops"
   ]
  },
  {
   "cell_type": "markdown",
   "id": "cd3e3471-8b68-404c-8430-59f2570f0a10",
   "metadata": {},
   "source": [
    "We close this tutorial with a remark on avoiding infinite loops. Note that up to this point, our programs *always* terminate. The only way a prolog program may not terminate, is for it to utilize recursion. A good rule o thump for a recursive rule is to use the *\"less complicated terms\"* earlier in the body of the rule. Prolog respects the order in which we write the predicates in the body of a rule, and tries to prove the *left most* predicate first. Thus, by writing the less complex predicates first *drastically* reduces the search space, leading to a correct execution. E.g. if we change the order of the predicates in the above recursive rule, i.e. `ancestor(X, Y) :- ancestor(X, Z), parent(Z, Y).`, the query `ancestor(X, Y)` would *not* terminate."
   ]
  },
  {
   "cell_type": "markdown",
   "id": "e2b45dfc-80f8-4feb-bb77-d9b72cb5defc",
   "metadata": {},
   "source": [
    "## Notes"
   ]
  },
  {
   "cell_type": "markdown",
   "id": "9d8bc7ae-b57e-4efd-a196-01ec16291242",
   "metadata": {},
   "source": [
    "* This notebook became possible by the prolog kernel for jupyter (see [here](https://github.com/hhu-stups/prolog-jupyter-kernel?tab=readme-ov-file#overriding-the-kernel-implementation)). The kernel has been write as the master thesis of Anne Brecklinghaus, of University of Düsseldorf.\n",
    "* For more information regarding SWI-prolog, you may visit the site: [www.swi-prolog.org](https://www.swi-prolog.org/)\n",
    "* For the theoretical properties of prolog see [SLD resolution](https://en.wikipedia.org/wiki/SLD_resolution), for the Prolog's inference mechanism. See [negation as failure](https://en.wikipedia.org/wiki/Negation_as_failure) for the technicalities involved in implementing negation.\n",
    "* Please, contact me for any quastions :)"
   ]
  }
 ],
 "metadata": {
  "kernelspec": {
   "display_name": "Prolog",
   "language": "prolog",
   "name": "prolog_kernel"
  },
  "language_info": {
   "codemirror_mode": "prolog",
   "file_extension": ".pl",
   "mimetype": "text/x-prolog",
   "name": "Prolog"
  }
 },
 "nbformat": 4,
 "nbformat_minor": 5
}
